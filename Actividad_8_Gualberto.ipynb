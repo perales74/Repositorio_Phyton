{
  "nbformat": 4,
  "nbformat_minor": 0,
  "metadata": {
    "colab": {
      "provenance": [],
      "include_colab_link": true
    },
    "kernelspec": {
      "name": "python3",
      "display_name": "Python 3"
    },
    "language_info": {
      "name": "python"
    }
  },
  "cells": [
    {
      "cell_type": "markdown",
      "metadata": {
        "id": "view-in-github",
        "colab_type": "text"
      },
      "source": [
        "<a href=\"https://colab.research.google.com/github/perales74/Repositorio_Phyton/blob/main/Actividad_8_Gualberto.ipynb\" target=\"_parent\"><img src=\"https://colab.research.google.com/assets/colab-badge.svg\" alt=\"Open In Colab\"/></a>"
      ]
    },
    {
      "cell_type": "code",
      "source": [
        "Python = {'Alma', 'Gabriel', 'Fernando', 'Perla', 'Marcela', 'Luis'}\n",
        "Inkscape = {'Pedro', 'Laura', 'Luis', 'Ana', 'Claudia', 'Gabriel'}\n",
        "Excel = {'Luis', 'José', 'Fátima', 'Carlos', 'Gabriel', 'Graciela'}\n",
        "print(\"Alumnos inscritos en el curso de Python: \",Python)\n",
        "print(\"Alumnos inscritos en el curso de Inkscape: \",Inkscape)\n",
        "print(\"Alumnos inscritos en el curso de Excel: \",Excel)\n",
        "tres_cursos=Python & Inkscape & Excel\n",
        "print(\"Alumnos inscritos en los tres cursos: \",tres_cursos)\n",
        "todos=Python | Inkscape | Excel\n",
        "solo_python=(todos-Inkscape)-Excel\n",
        "print(\"Alumnos inscritos sólo en el curso de Python y no en otro curso: \",solo_python)\n",
        "exc_sca=Inkscape ^ Excel\n",
        "print(\"Alumnos inscritos en los talleres de Inkscape y Excel pero no en ambos: \\n\",exc_sca)\n",
        "print(\"Alumnos inscritos en los talleres del congreso: \\n\",todos)\n",
        "n=len(todos)\n",
        "print(\"El número de alumnos asistentes a los talleres del congreso es: \",n)\n",
        "\n"
      ],
      "metadata": {
        "id": "AVSDi1JoOmPX",
        "colab": {
          "base_uri": "https://localhost:8080/"
        },
        "outputId": "d8f49a89-da3e-42ab-980f-42bcac4b37ac"
      },
      "execution_count": 3,
      "outputs": [
        {
          "output_type": "stream",
          "name": "stdout",
          "text": [
            "Alumnos inscritos en el curso de Python:  {'Luis', 'Fernando', 'Perla', 'Alma', 'Marcela', 'Gabriel'}\n",
            "Alumnos inscritos en el curso de Inkscape:  {'Luis', 'Pedro', 'Laura', 'Ana', 'Claudia', 'Gabriel'}\n",
            "Alumnos inscritos en el curso de Excel:  {'Luis', 'José', 'Graciela', 'Carlos', 'Fátima', 'Gabriel'}\n",
            "Alumnos inscritos en los tres cursos:  {'Luis', 'Gabriel'}\n",
            "Alumnos inscritos sólo en el curso de Python y no en otro curso:  {'Fernando', 'Perla', 'Marcela', 'Alma'}\n",
            "Alumnos inscritos en los talleres de Inkscape y Excel pero no en ambos: \n",
            " {'José', 'Ana', 'Fátima', 'Carlos', 'Pedro', 'Laura', 'Claudia', 'Graciela'}\n",
            "Alumnos inscritos en los talleres del congreso: \n",
            " {'Luis', 'José', 'Alma', 'Ana', 'Carlos', 'Fátima', 'Marcela', 'Gabriel', 'Fernando', 'Perla', 'Pedro', 'Laura', 'Claudia', 'Graciela'}\n",
            "El número de alumnos asistentes a los talleres del congreso es:  14\n"
          ]
        }
      ]
    }
  ]
}